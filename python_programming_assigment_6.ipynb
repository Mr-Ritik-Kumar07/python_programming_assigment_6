{
 "cells": [
  {
   "cell_type": "markdown",
   "id": "71063fb5-976a-40e0-8efb-1e924cae8ad7",
   "metadata": {},
   "source": [
    "1. Write a Python Program to Display Fibonacci Sequence Using Recursion?"
   ]
  },
  {
   "cell_type": "code",
   "execution_count": 7,
   "id": "921a13ef-8ca4-4248-9f82-2ac615d58459",
   "metadata": {},
   "outputs": [
    {
     "name": "stdin",
     "output_type": "stream",
     "text": [
      "Enter number of terms:  10\n"
     ]
    },
    {
     "name": "stdout",
     "output_type": "stream",
     "text": [
      "Fibonacci Sequence: [0, 1, 1, 2, 3, 5, 8, 13, 21, 34]\n"
     ]
    }
   ],
   "source": [
    "class FibonacciSequence:\n",
    "    def __init__(self, number):\n",
    "        self.number = number \n",
    "\n",
    "    def fibonacci(self, n): \n",
    "        if n <= 1:\n",
    "            return n\n",
    "        else:\n",
    "            return self.fibonacci(n - 1) + self.fibonacci(n - 2)\n",
    "\n",
    "    def display_sequence(self):\n",
    "        result = []\n",
    "        for i in range(self.number):\n",
    "            result.append(self.fibonacci(i))\n",
    "        return result\n",
    "\n",
    "number = int(input(\"Enter number of terms: \"))\n",
    "fs = FibonacciSequence(number)\n",
    "result = fs.display_sequence()\n",
    "print(\"Fibonacci Sequence:\", result)"
   ]
  },
  {
   "cell_type": "markdown",
   "id": "a8f30581-4c20-491b-b7be-1b60422b0ba3",
   "metadata": {},
   "source": [
    "2. Write a Python Program to Find Factorial of Number Using Recursion?"
   ]
  },
  {
   "cell_type": "code",
   "execution_count": 4,
   "id": "be41c74d-9908-43a5-a508-3432eccc891f",
   "metadata": {},
   "outputs": [
    {
     "name": "stdin",
     "output_type": "stream",
     "text": [
      "enter a number : 5\n"
     ]
    },
    {
     "name": "stdout",
     "output_type": "stream",
     "text": [
      "120\n"
     ]
    }
   ],
   "source": [
    "class factorial:\n",
    "    def __init__(self,number):\n",
    "        self.number = number\n",
    "    def factorial_recursion(self,n):\n",
    "        if n==0 or n==1:\n",
    "            return n\n",
    "        else:\n",
    "            return n* self.factorial_recursion(n-1)\n",
    "\n",
    "num = int(input(\"enter a number :\"))\n",
    "f = factorial(num)\n",
    "result = f.factorial_recursion(num)\n",
    "print(result)"
   ]
  },
  {
   "cell_type": "markdown",
   "id": "8286d64f-9f3b-46a2-891b-a19a759896b5",
   "metadata": {},
   "source": [
    "3. Write a Python Program to calculate your Body Mass Index?"
   ]
  },
  {
   "cell_type": "code",
   "execution_count": 8,
   "id": "8d240ded-98de-4a3e-bb16-612193d12b60",
   "metadata": {},
   "outputs": [
    {
     "name": "stdin",
     "output_type": "stream",
     "text": [
      "Enter your weight in kg:  45\n",
      "Enter your height in meters:  5.4\n"
     ]
    },
    {
     "name": "stdout",
     "output_type": "stream",
     "text": [
      "Your BMI is: 1.54\n",
      "Health Status: Underweight\n"
     ]
    }
   ],
   "source": [
    "class BMI:\n",
    "    def __init__(self, weight, height):\n",
    "        self.weight = weight  # in kilograms\n",
    "        self.height = height  # in meters\n",
    "\n",
    "    def calculate_bmi(self):\n",
    "        bmi = self.weight / (self.height ** 2)\n",
    "        return bmi\n",
    "\n",
    "    def get_bmi_status(self):\n",
    "        bmi_value = self.calculate_bmi()\n",
    "        if bmi_value < 18.5:\n",
    "            return \"Underweight\"\n",
    "        elif 18.5 <= bmi_value < 25:\n",
    "            return \"Normal weight\"\n",
    "        elif 25 <= bmi_value < 30:\n",
    "            return \"Overweight\"\n",
    "        else:\n",
    "            return \"Obese\"\n",
    "            \n",
    "weight = float(input(\"Enter your weight in kg: \"))\n",
    "height = float(input(\"Enter your height in meters: \"))1\n",
    "\n",
    "bmi_calculator = BMI(weight, height)\n",
    "bmi_value = bmi_calculator.calculate_bmi()\n",
    "status = bmi_calculator.get_bmi_status()\n",
    "\n",
    "print(f\"Your BMI is: {bmi_value:.2f}\")\n",
    "print(f\"Health Status: {status}\")\n"
   ]
  },
  {
   "cell_type": "markdown",
   "id": "2bcfc995-202c-4224-a335-5fed4048432f",
   "metadata": {},
   "source": [
    "4.5. Write a Python Program for cube sum of first n natural numbers?Write a Python Program to calculate the natural logarithm of any number?"
   ]
  },
  {
   "cell_type": "code",
   "execution_count": 13,
   "id": "3fcd4d7c-1e53-4b39-bf9a-ed9e8fe6cdc0",
   "metadata": {},
   "outputs": [
    {
     "name": "stdin",
     "output_type": "stream",
     "text": [
      "Enter a number to calculate its natural log:  20\n"
     ]
    },
    {
     "name": "stdout",
     "output_type": "stream",
     "text": [
      "Natural log of 20.0 is: 2.995732273553991\n"
     ]
    }
   ],
   "source": [
    "import math\n",
    "\n",
    "class NaturalLog:\n",
    "    def __init__(self, number):\n",
    "        self.number = number\n",
    "\n",
    "    def calculate_log(self):\n",
    "        if self.number <= 0:\n",
    "            return \"Logarithm is not defined for zero or negative numbers.\"\n",
    "        else:\n",
    "            return math.log(self.number)\n",
    "\n",
    "num = float(input(\"Enter a number to calculate its natural log: \"))\n",
    "log_calculator = NaturalLog(num)\n",
    "result = log_calculator.calculate_log()\n",
    "\n",
    "print(f\"Natural log of {num} is: {result}\")\n"
   ]
  },
  {
   "cell_type": "markdown",
   "id": "d31e2425-7379-48e5-8f65-d1f3304797bd",
   "metadata": {},
   "source": [
    "5. Write a Python Program for cube sum of first n natural numbers?"
   ]
  },
  {
   "cell_type": "code",
   "execution_count": 24,
   "id": "2e69cbf7-c9be-483f-9352-5a7d16e62199",
   "metadata": {},
   "outputs": [
    {
     "name": "stdin",
     "output_type": "stream",
     "text": [
      "Enter input:  3\n"
     ]
    },
    {
     "name": "stdout",
     "output_type": "stream",
     "text": [
      "Cube sum of first 3 natural numbers is: 36\n"
     ]
    }
   ],
   "source": [
    "class Cube:\n",
    "    def __init__(self, number):\n",
    "        self.number = number\n",
    "\n",
    "    def sum_natural_number(self):\n",
    "        total = 0\n",
    "        for i in range(1, self.number + 1):\n",
    "            total += i ** 3\n",
    "        return total\n",
    "num = int(input(\"Enter input: \"))\n",
    "csn = Cube(num)\n",
    "print(\"Cube sum of first\", num, \"natural numbers is:\", csn.sum_natural_number())\n"
   ]
  },
  {
   "cell_type": "code",
   "execution_count": null,
   "id": "7fd377d2-c2db-48d4-9e7d-d929f14e23ad",
   "metadata": {},
   "outputs": [],
   "source": []
  }
 ],
 "metadata": {
  "kernelspec": {
   "display_name": "Python [conda env:base] *",
   "language": "python",
   "name": "conda-base-py"
  },
  "language_info": {
   "codemirror_mode": {
    "name": "ipython",
    "version": 3
   },
   "file_extension": ".py",
   "mimetype": "text/x-python",
   "name": "python",
   "nbconvert_exporter": "python",
   "pygments_lexer": "ipython3",
   "version": "3.13.5"
  }
 },
 "nbformat": 4,
 "nbformat_minor": 5
}
